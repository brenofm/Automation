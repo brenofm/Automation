{
 "cells": [
  {
   "cell_type": "markdown",
   "id": "ce205f51-e1a6-44d9-8f68-5a50d58c56ac",
   "metadata": {},
   "source": [
    "## Lógica do projeto:\n",
    "\n",
    "- Importar a base de dados;\n",
    "- Visualizar a base de dados;\n",
    "- Faturamento por loja;\n",
    "- Quantidade de produtos vendidos por loja;\n",
    "- Ticket médio vendido por loja;\n",
    "- Envio de email com o relátório;"
   ]
  },
  {
   "cell_type": "code",
   "execution_count": 2,
   "id": "07cbbccd-87e3-44b8-8216-7fb71cf8c4e7",
   "metadata": {},
   "outputs": [
    {
     "ename": "SyntaxError",
     "evalue": "invalid syntax (<ipython-input-2-a25950353f0d>, line 3)",
     "output_type": "error",
     "traceback": [
      "\u001b[1;36m  File \u001b[1;32m\"<ipython-input-2-a25950353f0d>\"\u001b[1;36m, line \u001b[1;32m3\u001b[0m\n\u001b[1;33m    pip install pandas\u001b[0m\n\u001b[1;37m        ^\u001b[0m\n\u001b[1;31mSyntaxError\u001b[0m\u001b[1;31m:\u001b[0m invalid syntax\n"
     ]
    }
   ],
   "source": [
    "#Instalando a biblioteca pandas:\n",
    "\n",
    "pip install pandas"
   ]
  },
  {
   "cell_type": "code",
   "execution_count": 3,
   "id": "1f7d3810-f4fb-455d-a0de-5fd024d276b4",
   "metadata": {},
   "outputs": [],
   "source": [
    "# Importando a biblioteca pandas:\n",
    "\n",
    "import pandas as pd"
   ]
  },
  {
   "cell_type": "code",
   "execution_count": 4,
   "id": "6e57d645-a6e6-4e4f-9f79-26a1f4752728",
   "metadata": {},
   "outputs": [
    {
     "ename": "SyntaxError",
     "evalue": "invalid syntax (<ipython-input-4-a71bfb7b86f5>, line 4)",
     "output_type": "error",
     "traceback": [
      "\u001b[1;36m  File \u001b[1;32m\"<ipython-input-4-a71bfb7b86f5>\"\u001b[1;36m, line \u001b[1;32m4\u001b[0m\n\u001b[1;33m    pip install openpyxl\u001b[0m\n\u001b[1;37m        ^\u001b[0m\n\u001b[1;31mSyntaxError\u001b[0m\u001b[1;31m:\u001b[0m invalid syntax\n"
     ]
    }
   ],
   "source": [
    "# Instalando extensão para leitura de arquivos em excel:\n",
    "\n",
    "pip install openpyxl"
   ]
  },
  {
   "cell_type": "markdown",
   "id": "ca84dd26-854a-434f-bbeb-1f17e4ca7bda",
   "metadata": {},
   "source": [
    "## Importando a base de dados:"
   ]
  },
  {
   "cell_type": "code",
   "execution_count": 8,
   "id": "07e48ec3-63fb-4211-8635-45859f5c18ce",
   "metadata": {},
   "outputs": [],
   "source": [
    "tabela_vendas = pd.read_excel('Vendas.xlsx')"
   ]
  },
  {
   "cell_type": "code",
   "execution_count": 9,
   "id": "d934ced7-3aab-47fe-bc8d-e8426e8c59f8",
   "metadata": {},
   "outputs": [
    {
     "name": "stdout",
     "output_type": "stream",
     "text": [
      "        Código Venda       Data                     ID Loja           Produto  \\\n",
      "0                  1 2019-01-01          Iguatemi Esplanada    Sapato Estampa   \n",
      "1                  1 2019-01-01          Iguatemi Esplanada          Camiseta   \n",
      "2                  1 2019-01-01          Iguatemi Esplanada     Sapato Xadrez   \n",
      "3                  2 2019-01-02              Norte Shopping           Relógio   \n",
      "4                  2 2019-01-02              Norte Shopping      Chinelo Liso   \n",
      "...              ...        ...                         ...               ...   \n",
      "100994         69996 2019-12-26  Center Shopping Uberlândia    Short Listrado   \n",
      "100995         69996 2019-12-26  Center Shopping Uberlândia           Mochila   \n",
      "100996         69996 2019-12-26  Center Shopping Uberlândia  Pulseira Estampa   \n",
      "100997         69997 2019-12-26           Ribeirão Shopping   Camisa Listrado   \n",
      "100998         69997 2019-12-26           Ribeirão Shopping       Short Linho   \n",
      "\n",
      "        Quantidade  Valor Unitário  Valor Final  \n",
      "0                1             358          358  \n",
      "1                2             180          360  \n",
      "2                1             368          368  \n",
      "3                3             200          600  \n",
      "4                1              71           71  \n",
      "...            ...             ...          ...  \n",
      "100994           2             102          204  \n",
      "100995           4             270         1080  \n",
      "100996           1              87           87  \n",
      "100997           1             108          108  \n",
      "100998           2             133          266  \n",
      "\n",
      "[100999 rows x 7 columns]\n"
     ]
    }
   ],
   "source": [
    "print(tabela_vendas)"
   ]
  },
  {
   "cell_type": "markdown",
   "id": "120c06f9-0cce-4c45-a8dc-bf5d34b2d143",
   "metadata": {},
   "source": [
    "## Visualizar a base de dados"
   ]
  },
  {
   "cell_type": "code",
   "execution_count": 10,
   "id": "a535d340-3e60-463f-a71d-337879bd7f6a",
   "metadata": {},
   "outputs": [
    {
     "name": "stdout",
     "output_type": "stream",
     "text": [
      "        Código Venda       Data                     ID Loja           Produto  \\\n",
      "0                  1 2019-01-01          Iguatemi Esplanada    Sapato Estampa   \n",
      "1                  1 2019-01-01          Iguatemi Esplanada          Camiseta   \n",
      "2                  1 2019-01-01          Iguatemi Esplanada     Sapato Xadrez   \n",
      "3                  2 2019-01-02              Norte Shopping           Relógio   \n",
      "4                  2 2019-01-02              Norte Shopping      Chinelo Liso   \n",
      "...              ...        ...                         ...               ...   \n",
      "100994         69996 2019-12-26  Center Shopping Uberlândia    Short Listrado   \n",
      "100995         69996 2019-12-26  Center Shopping Uberlândia           Mochila   \n",
      "100996         69996 2019-12-26  Center Shopping Uberlândia  Pulseira Estampa   \n",
      "100997         69997 2019-12-26           Ribeirão Shopping   Camisa Listrado   \n",
      "100998         69997 2019-12-26           Ribeirão Shopping       Short Linho   \n",
      "\n",
      "        Quantidade  Valor Unitário  Valor Final  \n",
      "0                1             358          358  \n",
      "1                2             180          360  \n",
      "2                1             368          368  \n",
      "3                3             200          600  \n",
      "4                1              71           71  \n",
      "...            ...             ...          ...  \n",
      "100994           2             102          204  \n",
      "100995           4             270         1080  \n",
      "100996           1              87           87  \n",
      "100997           1             108          108  \n",
      "100998           2             133          266  \n",
      "\n",
      "[100999 rows x 7 columns]\n"
     ]
    }
   ],
   "source": [
    "#Visualizando a tabela sem ocultação de colunas:\n",
    "\n",
    "pd.set_option('display.max_columns', None)\n",
    "print(tabela_vendas)"
   ]
  },
  {
   "cell_type": "markdown",
   "id": "14a09b8e-5c5e-41f7-9521-f9b858c018e3",
   "metadata": {},
   "source": [
    "## Faturamento por loja:"
   ]
  },
  {
   "cell_type": "code",
   "execution_count": 11,
   "id": "0b5bcdc3-29bf-4d0b-8d08-2928370bc07e",
   "metadata": {},
   "outputs": [
    {
     "name": "stdout",
     "output_type": "stream",
     "text": [
      "                           ID Loja  Valor Final\n",
      "0               Iguatemi Esplanada          358\n",
      "1               Iguatemi Esplanada          360\n",
      "2               Iguatemi Esplanada          368\n",
      "3                   Norte Shopping          600\n",
      "4                   Norte Shopping           71\n",
      "...                            ...          ...\n",
      "100994  Center Shopping Uberlândia          204\n",
      "100995  Center Shopping Uberlândia         1080\n",
      "100996  Center Shopping Uberlândia           87\n",
      "100997           Ribeirão Shopping          108\n",
      "100998           Ribeirão Shopping          266\n",
      "\n",
      "[100999 rows x 2 columns]\n"
     ]
    }
   ],
   "source": [
    "# Criando tabelas com colunas selecionadas:\n",
    "\n",
    "tabela_2colunas = tabela_vendas[['ID Loja', 'Valor Final']]\n",
    "print(tabela_2colunas)"
   ]
  },
  {
   "cell_type": "code",
   "execution_count": 12,
   "id": "63be7bd8-2b7d-4311-9722-2bd130c9ddd2",
   "metadata": {},
   "outputs": [
    {
     "name": "stdout",
     "output_type": "stream",
     "text": [
      "                                  Valor Final\n",
      "ID Loja                                      \n",
      "Bourbon Shopping SP                   1726110\n",
      "Center Shopping Uberlândia            1668921\n",
      "Iguatemi Campinas                     1762419\n",
      "Iguatemi Esplanada                    1699681\n",
      "Norte Shopping                        1711968\n",
      "Novo Shopping Ribeirão Preto          1678225\n",
      "Palladium Shopping Curitiba           1721120\n",
      "Parque Dom Pedro Shopping             1631630\n",
      "Passei das Águas Shopping             1649014\n",
      "Ribeirão Shopping                     1707122\n",
      "Rio Mar Recife                        1722766\n",
      "Rio Mar Shopping Fortaleza            1698430\n",
      "Salvador Shopping                     1646739\n",
      "Shopping Barra                        1653103\n",
      "Shopping Center Interlagos            1640486\n",
      "Shopping Center Leste Aricanduva      1682870\n",
      "Shopping Eldorado                     1648111\n",
      "Shopping Ibirapuera                   1635060\n",
      "Shopping Iguatemi Fortaleza           1674824\n",
      "Shopping Midway Mall                  1590441\n",
      "Shopping Morumbi                      1586444\n",
      "Shopping Recife                       1624879\n",
      "Shopping SP Market                    1721763\n",
      "Shopping União de Osasco              1663770\n",
      "Shopping Vila Velha                   1731167\n"
     ]
    }
   ],
   "source": [
    "# Agrupando itens repetidos\n",
    "\n",
    "## Nesse caso, agrupando a colona 'ID LOjas' e somando o valor final, para assim obeter o \n",
    "## faturamento da loja.\n",
    "\n",
    "faturamento = tabela_vendas[['ID Loja', 'Valor Final']].groupby('ID Loja').sum()\n",
    "print(faturamento)"
   ]
  },
  {
   "cell_type": "markdown",
   "id": "3e331c7a-76e9-4ab1-b2f9-b4c6adeda19a",
   "metadata": {},
   "source": [
    "## Quantidade de produtos vendidos por loja:"
   ]
  },
  {
   "cell_type": "code",
   "execution_count": 13,
   "id": "2770e53d-0a75-4744-9cf2-40f0e7371de1",
   "metadata": {},
   "outputs": [
    {
     "name": "stdout",
     "output_type": "stream",
     "text": [
      "                                  Quantidade\n",
      "ID Loja                                     \n",
      "Bourbon Shopping SP                     8863\n",
      "Center Shopping Uberlândia              8627\n",
      "Iguatemi Campinas                       8935\n",
      "Iguatemi Esplanada                      8580\n",
      "Norte Shopping                          9014\n",
      "Novo Shopping Ribeirão Preto            8751\n",
      "Palladium Shopping Curitiba             9091\n",
      "Parque Dom Pedro Shopping               8388\n",
      "Passei das Águas Shopping               8618\n",
      "Ribeirão Shopping                       8825\n",
      "Rio Mar Recife                          8863\n",
      "Rio Mar Shopping Fortaleza              8937\n",
      "Salvador Shopping                       8698\n",
      "Shopping Barra                          8638\n",
      "Shopping Center Interlagos              8675\n",
      "Shopping Center Leste Aricanduva        8938\n",
      "Shopping Eldorado                       8719\n",
      "Shopping Ibirapuera                     8723\n",
      "Shopping Iguatemi Fortaleza             8629\n",
      "Shopping Midway Mall                    8206\n",
      "Shopping Morumbi                        8508\n",
      "Shopping Recife                         8581\n",
      "Shopping SP Market                      8927\n",
      "Shopping União de Osasco                8730\n",
      "Shopping Vila Velha                     9224\n"
     ]
    }
   ],
   "source": [
    "quantidade = tabela_vendas[['ID Loja', 'Quantidade']].groupby('ID Loja').sum()\n",
    "print(quantidade)"
   ]
  },
  {
   "cell_type": "markdown",
   "id": "bf429fe3-d5bf-4266-8fff-9b902441c6e4",
   "metadata": {},
   "source": [
    "## Ticket médio vendido por cada loja:"
   ]
  },
  {
   "cell_type": "code",
   "execution_count": 14,
   "id": "ef6df356-0634-40fc-9ce2-5eb72f14d07b",
   "metadata": {},
   "outputs": [
    {
     "name": "stdout",
     "output_type": "stream",
     "text": [
      "--------------------------------------------------\n",
      "ID Loja\n",
      "Bourbon Shopping SP                 194.754598\n",
      "Center Shopping Uberlândia          193.453228\n",
      "Iguatemi Campinas                   197.248909\n",
      "Iguatemi Esplanada                  198.098019\n",
      "Norte Shopping                      189.923231\n",
      "Novo Shopping Ribeirão Preto        191.775226\n",
      "Palladium Shopping Curitiba         189.321307\n",
      "Parque Dom Pedro Shopping           194.519552\n",
      "Passei das Águas Shopping           191.345324\n",
      "Ribeirão Shopping                   193.441586\n",
      "Rio Mar Recife                      194.377299\n",
      "Rio Mar Shopping Fortaleza          190.044758\n",
      "Salvador Shopping                   189.323868\n",
      "Shopping Barra                      191.375666\n",
      "Shopping Center Interlagos          189.105014\n",
      "Shopping Center Leste Aricanduva    188.282614\n",
      "Shopping Eldorado                   189.025232\n",
      "Shopping Ibirapuera                 187.442394\n",
      "Shopping Iguatemi Fortaleza         194.092479\n",
      "Shopping Midway Mall                193.814404\n",
      "Shopping Morumbi                    186.464974\n",
      "Shopping Recife                     189.357767\n",
      "Shopping SP Market                  192.871401\n",
      "Shopping União de Osasco            190.580756\n",
      "Shopping Vila Velha                 187.680724\n",
      "dtype: float64\n"
     ]
    }
   ],
   "source": [
    "# Dividindo a coluna 'valor Final' da tabela faturamento pela coluna 'Quantidade' da talbela quantidade\n",
    "print('-' * 50) # apenas para dividir visualmente as tabelas\n",
    "ticket_medio = faturamento['Valor Final'] / quantidade['Quantidade']\n",
    "print(ticket_medio)"
   ]
  },
  {
   "cell_type": "code",
   "execution_count": 15,
   "id": "47e13fc6-6c48-48c4-82ca-1b48148aa5dc",
   "metadata": {},
   "outputs": [
    {
     "name": "stdout",
     "output_type": "stream",
     "text": [
      "                                           0\n",
      "ID Loja                                     \n",
      "Bourbon Shopping SP               194.754598\n",
      "Center Shopping Uberlândia        193.453228\n",
      "Iguatemi Campinas                 197.248909\n",
      "Iguatemi Esplanada                198.098019\n",
      "Norte Shopping                    189.923231\n",
      "Novo Shopping Ribeirão Preto      191.775226\n",
      "Palladium Shopping Curitiba       189.321307\n",
      "Parque Dom Pedro Shopping         194.519552\n",
      "Passei das Águas Shopping         191.345324\n",
      "Ribeirão Shopping                 193.441586\n",
      "Rio Mar Recife                    194.377299\n",
      "Rio Mar Shopping Fortaleza        190.044758\n",
      "Salvador Shopping                 189.323868\n",
      "Shopping Barra                    191.375666\n",
      "Shopping Center Interlagos        189.105014\n",
      "Shopping Center Leste Aricanduva  188.282614\n",
      "Shopping Eldorado                 189.025232\n",
      "Shopping Ibirapuera               187.442394\n",
      "Shopping Iguatemi Fortaleza       194.092479\n",
      "Shopping Midway Mall              193.814404\n",
      "Shopping Morumbi                  186.464974\n",
      "Shopping Recife                   189.357767\n",
      "Shopping SP Market                192.871401\n",
      "Shopping União de Osasco          190.580756\n",
      "Shopping Vila Velha               187.680724\n"
     ]
    }
   ],
   "source": [
    "# Criando um resultado parecido com a tabela que precisamos, mas na verdade vai ser um flout\n",
    "# Então, para que seja criada uma tabela, uso o comando ().to_frame()\n",
    "ticket_medio = (faturamento['Valor Final'] / quantidade['Quantidade']).to_frame()\n",
    "print(ticket_medio)"
   ]
  },
  {
   "cell_type": "markdown",
   "id": "c840fc61-939e-4cf2-a71a-a0f2750309bb",
   "metadata": {},
   "source": [
    "## Enviar um email com o relatório:"
   ]
  },
  {
   "cell_type": "code",
   "execution_count": 16,
   "id": "ca1f762c-c50c-445c-b87b-2fd9f6eed32c",
   "metadata": {},
   "outputs": [
    {
     "ename": "SyntaxError",
     "evalue": "invalid syntax (<ipython-input-16-8b69c6aed1e9>, line 4)",
     "output_type": "error",
     "traceback": [
      "\u001b[1;36m  File \u001b[1;32m\"<ipython-input-16-8b69c6aed1e9>\"\u001b[1;36m, line \u001b[1;32m4\u001b[0m\n\u001b[1;33m    pip install pywin32\u001b[0m\n\u001b[1;37m        ^\u001b[0m\n\u001b[1;31mSyntaxError\u001b[0m\u001b[1;31m:\u001b[0m invalid syntax\n"
     ]
    }
   ],
   "source": [
    "# Para poder enviar o email, instalar a biblioteca para integrar o python ao outlook\n",
    "# Pode ser outro email, mas nesse caso, será para a plataforma outlook\n",
    "\n",
    "pip install pywin32"
   ]
  },
  {
   "cell_type": "code",
   "execution_count": null,
   "id": "c2a1c0a7-034a-4a4a-bdd4-26fe7c8d108e",
   "metadata": {},
   "outputs": [],
   "source": [
    "# importa a biblioteca\n",
    "\n",
    "import win32com.client as win32"
   ]
  },
  {
   "cell_type": "markdown",
   "id": "576550cc-5642-4666-91a0-714a8935ff06",
   "metadata": {},
   "source": [
    "### Algumas formatações no e-mail:"
   ]
  },
  {
   "cell_type": "code",
   "execution_count": null,
   "id": "ee4c9cde-e911-4cfe-b14c-dd18c5cfa6e8",
   "metadata": {},
   "outputs": [],
   "source": [
    "# formatações em HTML;"
   ]
  },
  {
   "cell_type": "code",
   "execution_count": 17,
   "id": "d3c60cff-7404-46a0-abf8-eac49b692381",
   "metadata": {},
   "outputs": [
    {
     "name": "stdout",
     "output_type": "stream",
     "text": [
      "Email enviado\n"
     ]
    }
   ],
   "source": [
    "outlook = win32.Dispatch('outlook.application')\n",
    "mail = outlook.CreateItem(0)\n",
    "mail.To = 'brenofm22@gmail.com'\n",
    "mail.Subject = 'Relatório de vendas por loja'\n",
    "mail.HTMLBody = f'''\n",
    "<p>Prezados</p>\n",
    "\n",
    "<p>Segue o relatóriode vendas por cada loja.</p>\n",
    "\n",
    "<p>Faturamento:</p>\n",
    "{faturamento.to_html()}\n",
    "\n",
    "<p>Quantidade vendida:</p>\n",
    "{quantidade.to_html()}\n",
    "\n",
    "<p>Ticket médio dos produtos em cada loja:</p>\n",
    "{ticket_medio.to_html()}\n",
    "<p>Qualquer dúvida estou à disposição.</p>\n",
    "\n",
    "<p>Att.,</p>\n",
    "<p>Breno</p>\n",
    "'''\n",
    "\n",
    "mail.Send()\n",
    "\n",
    "print('Email enviado')"
   ]
  },
  {
   "cell_type": "code",
   "execution_count": 21,
   "id": "0a726384-5ee7-4e0b-b965-c30bf299a497",
   "metadata": {},
   "outputs": [
    {
     "name": "stdout",
     "output_type": "stream",
     "text": [
      "                                  Ticket Médio\n",
      "ID Loja                                       \n",
      "Bourbon Shopping SP                 194.754598\n",
      "Center Shopping Uberlândia          193.453228\n",
      "Iguatemi Campinas                   197.248909\n",
      "Iguatemi Esplanada                  198.098019\n",
      "Norte Shopping                      189.923231\n",
      "Novo Shopping Ribeirão Preto        191.775226\n",
      "Palladium Shopping Curitiba         189.321307\n",
      "Parque Dom Pedro Shopping           194.519552\n",
      "Passei das Águas Shopping           191.345324\n",
      "Ribeirão Shopping                   193.441586\n",
      "Rio Mar Recife                      194.377299\n",
      "Rio Mar Shopping Fortaleza          190.044758\n",
      "Salvador Shopping                   189.323868\n",
      "Shopping Barra                      191.375666\n",
      "Shopping Center Interlagos          189.105014\n",
      "Shopping Center Leste Aricanduva    188.282614\n",
      "Shopping Eldorado                   189.025232\n",
      "Shopping Ibirapuera                 187.442394\n",
      "Shopping Iguatemi Fortaleza         194.092479\n",
      "Shopping Midway Mall                193.814404\n",
      "Shopping Morumbi                    186.464974\n",
      "Shopping Recife                     189.357767\n",
      "Shopping SP Market                  192.871401\n",
      "Shopping União de Osasco            190.580756\n",
      "Shopping Vila Velha                 187.680724\n"
     ]
    }
   ],
   "source": [
    "# Mudar o nome da coluna:\n",
    "\n",
    "ticket_medio = (faturamento['Valor Final'] / quantidade['Quantidade']).to_frame()\n",
    "ticket_medio = ticket_medio.rename(columns={0: 'Ticket Médio'})\n",
    "print(ticket_medio)"
   ]
  },
  {
   "cell_type": "code",
   "execution_count": 22,
   "id": "821f0040-0d58-42c8-8725-a310d8b695aa",
   "metadata": {},
   "outputs": [
    {
     "name": "stdout",
     "output_type": "stream",
     "text": [
      "Email enviado\n"
     ]
    }
   ],
   "source": [
    "# Formatando os números da tabela\n",
    "\n",
    "outlook = win32.Dispatch('outlook.application')\n",
    "mail = outlook.CreateItem(0)\n",
    "mail.To = 'brenofm22@gmail.com'\n",
    "mail.Subject = 'Relatório de vendas por loja'\n",
    "mail.HTMLBody = f'''\n",
    "<p>Prezados</p>\n",
    "\n",
    "<p>Segue o relatóriode vendas por cada loja.</p>\n",
    "\n",
    "<p>Faturamento:</p>\n",
    "{faturamento.to_html(formatters={'Valor Final': 'RS{:,.2f}'.format})}\n",
    "\n",
    "<p>Quantidade vendida:</p>\n",
    "{quantidade.to_html()}\n",
    "\n",
    "<p>Ticket médio dos produtos em cada loja:</p>\n",
    "{ticket_medio.to_html(formatters={'Ticket Médio': 'RS{:,.2f}'.format})}\n",
    "<p>Qualquer dúvida estou à disposição.</p>\n",
    "\n",
    "<p>Att.,</p>\n",
    "<p>Breno</p>\n",
    "'''\n",
    "\n",
    "mail.Send()\n",
    "\n",
    "print('Email enviado')"
   ]
  },
  {
   "cell_type": "code",
   "execution_count": 20,
   "id": "15150d03-867c-4632-8959-eef6cce97b7e",
   "metadata": {},
   "outputs": [],
   "source": [
    "# The end!!!"
   ]
  },
  {
   "cell_type": "code",
   "execution_count": null,
   "id": "26b2f4e4-5c90-486c-88fd-a260c7e7b1b8",
   "metadata": {},
   "outputs": [],
   "source": []
  }
 ],
 "metadata": {
  "kernelspec": {
   "display_name": "Python 3",
   "language": "python",
   "name": "python3"
  },
  "language_info": {
   "codemirror_mode": {
    "name": "ipython",
    "version": 3
   },
   "file_extension": ".py",
   "mimetype": "text/x-python",
   "name": "python",
   "nbconvert_exporter": "python",
   "pygments_lexer": "ipython3",
   "version": "3.8.8"
  }
 },
 "nbformat": 4,
 "nbformat_minor": 5
}
